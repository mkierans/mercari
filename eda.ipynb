{
 "cells": [
  {
   "cell_type": "code",
   "execution_count": 1,
   "metadata": {},
   "outputs": [],
   "source": [
    "import pandas as pd\n",
    "import numpy as np\n",
    "import matplotlib.pyplot as plt\n",
    "import plotly.plotly as py\n",
    "import plotly.graph_objs as go\n",
    "pd.options.display.max_colwidth = -1\n",
    "\n",
    "%matplotlib inline"
   ]
  },
  {
   "cell_type": "code",
   "execution_count": 2,
   "metadata": {},
   "outputs": [],
   "source": [
    "# look at distrubution in number of categories over test and train\n",
    "\n",
    "def num_cats(text):\n",
    "    try:\n",
    "        return len(text.split('/'))\n",
    "    except:\n",
    "        return 0\n",
    "    \n",
    "def split_cat(text):\n",
    "    try:\n",
    "        split = text.split('/')\n",
    "        if len(split) == 3:\n",
    "            split.extend([\"only 3 labels\", \"only 3 labels\"])\n",
    "        elif len(split) == 4:\n",
    "            split.extend([\"only 4 labels\"]) \n",
    "        return split\n",
    "    except:\n",
    "        # choosing np.nan enables a get_dummies option to ignore / include missing values\n",
    "        return (np.nan, np.nan, np.nan, np.nan, np.nan)\n",
    "    \n",
    "def print_horiz_line():\n",
    "    print(\"-----------------------\")"
   ]
  },
  {
   "cell_type": "code",
   "execution_count": 3,
   "metadata": {},
   "outputs": [
    {
     "name": "stdout",
     "output_type": "stream",
     "text": [
      "Size of data:\n",
      "train, (1482535, 8)\n",
      "test, (693359, 7)\n"
     ]
    }
   ],
   "source": [
    "train = pd.read_csv('data/train.tsv', sep='\\t')\n",
    "test = pd.read_csv('data/test.tsv', sep='\\t')\n",
    "\n",
    "# size of data\n",
    "\n",
    "print(\"Size of data:\")\n",
    "print(\"train, {}\".format(train.shape))\n",
    "print(\"test, {}\".format(test.shape))"
   ]
  },
  {
   "cell_type": "code",
   "execution_count": 4,
   "metadata": {},
   "outputs": [
    {
     "name": "stdout",
     "output_type": "stream",
     "text": [
      "Training distribution\n",
      "3    1471819\n",
      "0    6327   \n",
      "5    3059   \n",
      "4    1330   \n",
      "Name: num_cats, dtype: int64\n",
      "Testing distribution\n",
      "3    688370\n",
      "0    2967  \n",
      "5    1409  \n",
      "4    613   \n",
      "Name: num_cats, dtype: int64\n"
     ]
    }
   ],
   "source": [
    "train['num_cats'] = train['category_name'].apply(lambda x: num_cats(x))\n",
    "test['num_cats'] = train['category_name'].apply(lambda x: num_cats(x))\n",
    "\n",
    "print(\"Training distribution\")\n",
    "print(train.num_cats.value_counts())\n",
    "print(\"Testing distribution\")\n",
    "print(test.num_cats.value_counts())"
   ]
  },
  {
   "cell_type": "code",
   "execution_count": 5,
   "metadata": {},
   "outputs": [],
   "source": [
    "train['general_cat'], train['sub_cat1'], train['sub_cat2'], train['sub_cat3'], train['sub_cat4'] =\\\n",
    "    zip(*train['category_name'].apply(lambda x: split_cat(x)))\n",
    "    \n",
    "test['general_cat'], test['sub_cat1'], test['sub_cat2'], test['sub_cat3'], test['sub_cat4'] = \\\n",
    "    zip(*test['category_name'].apply(lambda x: split_cat(x)))"
   ]
  },
  {
   "cell_type": "code",
   "execution_count": 9,
   "metadata": {},
   "outputs": [
    {
     "data": {
      "text/html": [
       "<div>\n",
       "<style scoped>\n",
       "    .dataframe tbody tr th:only-of-type {\n",
       "        vertical-align: middle;\n",
       "    }\n",
       "\n",
       "    .dataframe tbody tr th {\n",
       "        vertical-align: top;\n",
       "    }\n",
       "\n",
       "    .dataframe thead th {\n",
       "        text-align: right;\n",
       "    }\n",
       "</style>\n",
       "<table border=\"1\" class=\"dataframe\">\n",
       "  <thead>\n",
       "    <tr style=\"text-align: right;\">\n",
       "      <th></th>\n",
       "      <th>category_name</th>\n",
       "      <th>general_cat</th>\n",
       "      <th>sub_cat1</th>\n",
       "      <th>sub_cat2</th>\n",
       "      <th>sub_cat3</th>\n",
       "      <th>sub_cat4</th>\n",
       "    </tr>\n",
       "  </thead>\n",
       "  <tbody>\n",
       "    <tr>\n",
       "      <th>1449889</th>\n",
       "      <td>Sports &amp; Outdoors/Outdoors/Indoor/Outdoor Games</td>\n",
       "      <td>Sports &amp; Outdoors</td>\n",
       "      <td>Outdoors</td>\n",
       "      <td>Indoor</td>\n",
       "      <td>Outdoor Games</td>\n",
       "      <td>only 4 labels</td>\n",
       "    </tr>\n",
       "  </tbody>\n",
       "</table>\n",
       "</div>"
      ],
      "text/plain": [
       "                                           category_name        general_cat  \\\n",
       "1449889  Sports & Outdoors/Outdoors/Indoor/Outdoor Games  Sports & Outdoors   \n",
       "\n",
       "         sub_cat1 sub_cat2       sub_cat3       sub_cat4  \n",
       "1449889  Outdoors  Indoor   Outdoor Games  only 4 labels  "
      ]
     },
     "execution_count": 9,
     "metadata": {},
     "output_type": "execute_result"
    }
   ],
   "source": [
    "# # sanity check\n",
    "train.loc[train.num_cats==4, ['category_name', 'general_cat', 'sub_cat1', \n",
    "                              'sub_cat2', 'sub_cat3', 'sub_cat4']].sample(1)\n",
    "\n",
    "# # sanity check\n",
    "# train.loc[train.num_cats==5, ['category_name', 'general_cat', 'sub_cat1', \n",
    "#                               'sub_cat2', 'sub_cat3', 'sub_cat4']].sample(1)\n",
    "\n",
    "# # sanity check\n",
    "# train.loc[train.num_cats==3, ['category_name', 'general_cat', 'sub_cat1',\n",
    "#                               'sub_cat2', 'sub_cat3', 'sub_cat4']].sample(1)\n",
    "\n",
    "# # sanity check\n",
    "# train.loc[train.num_cats==0, ['category_name', 'general_cat', 'sub_cat1',\n",
    "#                               'sub_cat2', 'sub_cat3', 'sub_cat4']].sample(1)"
   ]
  },
  {
   "cell_type": "code",
   "execution_count": 10,
   "metadata": {
    "scrolled": true
   },
   "outputs": [
    {
     "name": "stdout",
     "output_type": "stream",
     "text": [
      "Training and testing differences in column general_cat\n",
      "Number of unique categories, 11\n",
      "Number of unique training categories, 11\n",
      "Number of unique testing categories, 11\n",
      "Number of training categories not in test, 0\n",
      "Number of test categories not in training, 0\n",
      "Size of intersection, 11\n",
      "-----------------------\n",
      "Training and testing differences in column sub_cat1\n",
      "Number of unique categories, 114\n",
      "Number of unique training categories, 114\n",
      "Number of unique testing categories, 114\n",
      "Number of training categories not in test, 0\n",
      "Number of test categories not in training, 0\n",
      "Size of intersection, 114\n",
      "-----------------------\n",
      "Training and testing differences in column sub_cat2\n",
      "Number of unique categories, 883\n",
      "Number of unique training categories, 871\n",
      "Number of unique testing categories, 834\n",
      "Number of training categories not in test, 49\n",
      "... some examples are: Fireplaces & Accessories, Holiday Décor Storage, Competitive Swimwear, Safety Caps, Child Friendly, House, Towel, Crib Netting, Coasters, Animals\n",
      "Number of test categories not in training, 12\n",
      "... some examples are: Bedroom, Computer, Amigurumi, Tandem, Professional & Trade, Rugs, Pretend, Home, Fiber Art, Rails & Rail Guards\n",
      "Size of intersection, 822\n",
      "-----------------------\n",
      "Training and testing differences in column sub_cat3\n",
      "Number of unique categories, 8\n",
      "Number of unique training categories, 8\n",
      "Number of unique testing categories, 8\n",
      "Number of training categories not in test, 0\n",
      "Number of test categories not in training, 0\n",
      "Size of intersection, 8\n",
      "-----------------------\n",
      "Training and testing differences in column sub_cat4\n",
      "Number of unique categories, 5\n",
      "Number of unique training categories, 5\n",
      "Number of unique testing categories, 5\n",
      "Number of training categories not in test, 0\n",
      "Number of test categories not in training, 0\n",
      "Size of intersection, 5\n",
      "-----------------------\n",
      "Training and testing differences in column brand_name\n",
      "Number of unique categories, 5290\n",
      "Number of unique training categories, 4810\n",
      "Number of unique testing categories, 3901\n",
      "Number of training categories not in test, 1389\n",
      "... some examples are: Camilia, Max Azria, Bike, Red Ape, Vantage, Koh Koh, Shaka Wear, Viviscal, Cheetah, Malibu\n",
      "Number of test categories not in training, 480\n",
      "... some examples are: Tachikara, California Concepts, Mani, XO Vision, KoalaKin, Bell Sports, You & Me, All That Jazz, Autumn Cashmere, Altru\n",
      "Size of intersection, 3421\n",
      "-----------------------\n"
     ]
    }
   ],
   "source": [
    "def print_train_test_diff(train, test, column):\n",
    "    num_examples = 10\n",
    "    \n",
    "    print(\"Training and testing differences in column {}\"\n",
    "         .format(column))\n",
    "    unique_train = set(train.loc[:, column].unique())\n",
    "    unique_test = set(test.loc[:, column].unique())\n",
    "    unique_total = unique_train.union(unique_test)\n",
    "    print(\"Number of unique categories, {}\"\n",
    "         .format(len(unique_total)))\n",
    "    print(\"Number of unique training categories, {}\"\n",
    "         .format(len(unique_train)))\n",
    "    print(\"Number of unique testing categories, {}\"\n",
    "         .format(len(unique_test)))\n",
    "    print(\"Number of training categories not in test, {}\"\n",
    "         .format(len(unique_train.difference(unique_test))))\n",
    "    if len(unique_train.difference(unique_test)) > 0:\n",
    "        print(\"... some examples are: {}\"\n",
    "             .format(\", \".join(list(unique_train.difference(unique_test))[:num_examples])))\n",
    "    print(\"Number of test categories not in training, {}\"\n",
    "         .format(len(unique_test.difference(unique_train))))\n",
    "    if len(unique_test.difference(unique_train)) > 0:\n",
    "        print(\"... some examples are: {}\"\n",
    "             .format(\", \".join(list(unique_test.difference(unique_train))[:num_examples])))\n",
    "    print(\"Size of intersection, {}\"\n",
    "         .format(len(unique_test.intersection(unique_train))))\n",
    "    print_horiz_line()\n",
    "\n",
    "print_train_test_diff(train, test, 'general_cat')\n",
    "print_train_test_diff(train, test, 'sub_cat1')\n",
    "print_train_test_diff(train, test, 'sub_cat2')\n",
    "print_train_test_diff(train, test, 'sub_cat3')\n",
    "print_train_test_diff(train, test, 'sub_cat4')\n",
    "print_train_test_diff(train, test, 'brand_name')"
   ]
  },
  {
   "cell_type": "code",
   "execution_count": null,
   "metadata": {},
   "outputs": [],
   "source": [
    "def print_column_info(df, column, num_top, num_bot=None):\n",
    "    print(\"Top {} value counts:\\n{}\\n\"\n",
    "          .format(num_top, df[column].value_counts().iloc[:num_top]))\n",
    "    if num_bot is not None:\n",
    "        print(\"Bottom {} value counts:\\n{}\\n\"\n",
    "             .format(num_bot, df[column].value_counts().iloc[-num_bot:]))"
   ]
  },
  {
   "cell_type": "code",
   "execution_count": null,
   "metadata": {},
   "outputs": [],
   "source": [
    "print(\"Train data, general_cat info\")\n",
    "print_column_info(train, 'general_cat', 11)\n",
    "print(\"Test data, general_cat info\")\n",
    "print_column_info(test, 'general_cat', 11)\n",
    "print_horiz_line()\n",
    "\n",
    "print(\"Train data, sub category 1 info\")\n",
    "print_column_info(train, 'sub_cat1', 10, 10)\n",
    "print(\"Test data, sub category 1 info\")\n",
    "print_column_info(test, 'sub_cat1', 10, 10)\n",
    "print_horiz_line()\n",
    "\n",
    "print(\"Train data, sub category 2 info\")\n",
    "print_column_info(train, 'sub_cat2', 10, 10)\n",
    "print(\"Test data, sub category 2 info\")\n",
    "print_column_info(test, 'sub_cat2', 10, 10)\n",
    "print_horiz_line()\n",
    "\n",
    "print(\"Train data, sub category 3 info\")\n",
    "print_column_info(train, 'sub_cat3', 10)\n",
    "print(\"Test data, sub category 3 info\")\n",
    "print_column_info(test, 'sub_cat3', 10)\n",
    "print_horiz_line()\n",
    "\n",
    "print(\"Train data, sub category 4 info\")\n",
    "print_column_info(train, 'sub_cat4', 10)\n",
    "print(\"Test data, sub category 4 info\")\n",
    "print_column_info(test, 'sub_cat4', 10)\n",
    "print_horiz_line()"
   ]
  },
  {
   "cell_type": "code",
   "execution_count": 31,
   "metadata": {},
   "outputs": [],
   "source": [
    "def plot_column_dist(train, test, column):\n",
    "    data = pd.concat([train, test], axis=0)\n",
    "    train_name = 'train_' + column\n",
    "    test_name = 'test_' + column\n",
    "    train_counts = train[column].value_counts()\n",
    "    test_counts = test[column].value_counts()\n",
    "    train_counts.name = train_name\n",
    "    test_counts.name = test_name\n",
    "    merged = pd.concat([train_counts, test_counts], axis=1).fillna(0)\n",
    "    merged.sort_values(train_name, inplace=True, ascending=False)\n",
    "    \n",
    "    N = len(merged)\n",
    "    ind = np.arange(N)\n",
    "    width = 0.35       # the width of the bars\n",
    "\n",
    "    fig, ax = plt.subplots()\n",
    "    ax.bar(ind, merged[train_name].values, width, color='r')\n",
    "    ax.bar(ind + width, merged[test_name].values, width, color='y')\n",
    "\n",
    "    ax.set_xticks(ind + width / 2)\n",
    "    ax.set_xticklabels(merged.index, rotation='vertical')\n",
    "    return ax"
   ]
  },
  {
   "cell_type": "code",
   "execution_count": 32,
   "metadata": {},
   "outputs": [
    {
     "data": {
      "text/plain": [
       "<matplotlib.axes._subplots.AxesSubplot at 0x7f3dd3e0a128>"
      ]
     },
     "execution_count": 32,
     "metadata": {},
     "output_type": "execute_result"
    },
    {
     "data": {
      "image/png": "[encoded data removed]",
      "text/plain": [
       "<matplotlib.figure.Figure at 0x7f3dd37ce7f0>"
      ]
     },
     "metadata": {},
     "output_type": "display_data"
    }
   ],
   "source": [
    "plot_column_dist(train, test, 'su')"
   ]
  },
  {
   "cell_type": "code",
   "execution_count": null,
   "metadata": {},
   "outputs": [],
   "source": [
    "all_data = pd.concat([train, test], axis=0)"
   ]
  },
  {
   "cell_type": "code",
   "execution_count": null,
   "metadata": {},
   "outputs": [],
   "source": [
    "test.head(1)"
   ]
  },
  {
   "cell_type": "code",
   "execution_count": null,
   "metadata": {},
   "outputs": [],
   "source": [
    "train.head(1)"
   ]
  },
  {
   "cell_type": "code",
   "execution_count": null,
   "metadata": {},
   "outputs": [],
   "source": [
    "all_data.loc[all_data['general_cat'].isnull()].head(1)"
   ]
  },
  {
   "cell_type": "code",
   "execution_count": 4,
   "metadata": {},
   "outputs": [],
   "source": [
    "def reshape_onehot(train, test, column, prefix='_', dummy_na=False,\n",
    "                   rel_thresh=1, only_rel_cols=True, verbose=False):\n",
    "    all_data = pd.concat([train, test], axis=0)\n",
    "\n",
    "    if only_rel_cols:\n",
    "        train_counts = train[column].value_counts()\n",
    "        \n",
    "        # these are good categories to train on\n",
    "        thresh_train = set(train_counts.loc[train_counts >= rel_thresh].index)\n",
    "        \n",
    "        if verbose:\n",
    "            print(\"{} of {} values pass threshold of {}\"\n",
    "                  .format(len(thresh_train), len(train_counts), rel_thresh))\n",
    "            \n",
    "        all_data.loc[~all_data[column].isin(thresh_train), column] = np.nan\n",
    "    new_columns = pd.get_dummies(all_data[column], prefix=prefix,\n",
    "                                 dummy_na=dummy_na)\n",
    "    new_data = pd.concat([all_data.drop([column], axis=1), new_columns],\n",
    "                         axis=1)\n",
    "    new_train = new_data.loc[new_data.test_id.isnull()].drop(['test_id'],\n",
    "                                                             axis=1)\n",
    "    new_test = new_data.loc[new_data.train_id.isnull()].drop(['train_id'],\n",
    "                                                             axis=1)\n",
    "    return new_train, new_test"
   ]
  },
  {
   "cell_type": "code",
   "execution_count": 5,
   "metadata": {},
   "outputs": [
    {
     "name": "stdout",
     "output_type": "stream",
     "text": [
      "1280 of 4809 values pass threshold of 20\n"
     ]
    }
   ],
   "source": [
    "train = pd.read_csv('data/train.tsv', sep='\\t')\n",
    "test = pd.read_csv('data/test.tsv', sep='\\t')\n",
    "\n",
    "train['general_cat'], train['sub_cat1'], train['sub_cat2'], train['sub_cat3'], train['sub_cat4'] =\\\n",
    "    zip(*train['category_name'].apply(lambda x: split_cat(x)))\n",
    "    \n",
    "test['general_cat'], test['sub_cat1'], test['sub_cat2'], test['sub_cat3'], test['sub_cat4'] = \\\n",
    "    zip(*test['category_name'].apply(lambda x: split_cat(x)))\n",
    "\n",
    "train, test = reshape_onehot(train, test, 'brand_name', prefix='bn', rel_thresh=20, verbose=True)\n",
    "# train, test = reshape_onehot(train, test, 'general_cat', prefix='cat0')\n",
    "# train, test = reshape_onehot(train, test, 'sub_cat1', prefix='cat1')\n",
    "# train, test = reshape_onehot(train, test, 'sub_cat2', prefix='cat2')\n",
    "# train, test = reshape_onehot(train, test, 'sub_cat3', prefix='cat3')\n",
    "# train, test = reshape_onehot(train, test, 'sub_cat4', prefix='cat4')"
   ]
  },
  {
   "cell_type": "code",
   "execution_count": null,
   "metadata": {},
   "outputs": [],
   "source": [
    "train = pd.read_csv('data/train.tsv', sep='\\t')\n",
    "test = pd.read_csv('data/test.tsv', sep='\\t')"
   ]
  },
  {
   "cell_type": "code",
   "execution_count": 61,
   "metadata": {},
   "outputs": [
    {
     "data": {
      "text/plain": [
       "2390"
      ]
     },
     "execution_count": 61,
     "metadata": {},
     "output_type": "execute_result"
    }
   ],
   "source": [
    "rel_thresh = 5\n",
    "column = 'brand_name'\n",
    "train_counts = train[column].value_counts()\n",
    "thresh_train = set(train_counts.loc[train_counts >= rel_thresh].index)\n",
    "len(train_counts.loc[train_counts >= rel_thresh].index)"
   ]
  },
  {
   "cell_type": "code",
   "execution_count": 6,
   "metadata": {},
   "outputs": [
    {
     "data": {
      "text/html": [
       "<div>\n",
       "<style scoped>\n",
       "    .dataframe tbody tr th:only-of-type {\n",
       "        vertical-align: middle;\n",
       "    }\n",
       "\n",
       "    .dataframe tbody tr th {\n",
       "        vertical-align: top;\n",
       "    }\n",
       "\n",
       "    .dataframe thead th {\n",
       "        text-align: right;\n",
       "    }\n",
       "</style>\n",
       "<table border=\"1\" class=\"dataframe\">\n",
       "  <thead>\n",
       "    <tr style=\"text-align: right;\">\n",
       "      <th></th>\n",
       "      <th>category_name</th>\n",
       "      <th>general_cat</th>\n",
       "      <th>item_condition_id</th>\n",
       "      <th>item_description</th>\n",
       "      <th>name</th>\n",
       "      <th>price</th>\n",
       "      <th>shipping</th>\n",
       "      <th>sub_cat1</th>\n",
       "      <th>sub_cat2</th>\n",
       "      <th>sub_cat3</th>\n",
       "      <th>...</th>\n",
       "      <th>bn_moms</th>\n",
       "      <th>bn_patagonia</th>\n",
       "      <th>bn_pet brands</th>\n",
       "      <th>bn_prAna</th>\n",
       "      <th>bn_rag &amp; bone</th>\n",
       "      <th>bn_rue</th>\n",
       "      <th>bn_theBalm</th>\n",
       "      <th>bn_tokidoki</th>\n",
       "      <th>bn_totes ISOTONER</th>\n",
       "      <th>bn_vineyard vines</th>\n",
       "    </tr>\n",
       "  </thead>\n",
       "  <tbody>\n",
       "    <tr>\n",
       "      <th>0</th>\n",
       "      <td>Men/Tops/T-shirts</td>\n",
       "      <td>Men</td>\n",
       "      <td>3</td>\n",
       "      <td>No description yet</td>\n",
       "      <td>MLB Cincinnati Reds T Shirt Size XL</td>\n",
       "      <td>10.0</td>\n",
       "      <td>1</td>\n",
       "      <td>Tops</td>\n",
       "      <td>T-shirts</td>\n",
       "      <td>only 3 labels</td>\n",
       "      <td>...</td>\n",
       "      <td>0</td>\n",
       "      <td>0</td>\n",
       "      <td>0</td>\n",
       "      <td>0</td>\n",
       "      <td>0</td>\n",
       "      <td>0</td>\n",
       "      <td>0</td>\n",
       "      <td>0</td>\n",
       "      <td>0</td>\n",
       "      <td>0</td>\n",
       "    </tr>\n",
       "  </tbody>\n",
       "</table>\n",
       "<p>1 rows × 1292 columns</p>\n",
       "</div>"
      ],
      "text/plain": [
       "       category_name general_cat  item_condition_id    item_description  \\\n",
       "0  Men/Tops/T-shirts  Men         3                  No description yet   \n",
       "\n",
       "                                  name  price  shipping sub_cat1  sub_cat2  \\\n",
       "0  MLB Cincinnati Reds T Shirt Size XL  10.0   1         Tops     T-shirts   \n",
       "\n",
       "        sub_cat3        ...         bn_moms  bn_patagonia  bn_pet brands  \\\n",
       "0  only 3 labels        ...          0       0             0               \n",
       "\n",
       "   bn_prAna  bn_rag & bone  bn_rue  bn_theBalm  bn_tokidoki  \\\n",
       "0  0         0              0       0           0             \n",
       "\n",
       "   bn_totes ISOTONER  bn_vineyard vines  \n",
       "0  0                  0                  \n",
       "\n",
       "[1 rows x 1292 columns]"
      ]
     },
     "execution_count": 6,
     "metadata": {},
     "output_type": "execute_result"
    }
   ],
   "source": [
    "train.head(1)"
   ]
  },
  {
   "cell_type": "code",
   "execution_count": null,
   "metadata": {},
   "outputs": [],
   "source": [
    "column = 'general_cat'\n",
    "a = train[column].value_counts()\n",
    "a.loc[a > 30000].index\n",
    "train[column].value_counts()\n",
    "len(a)"
   ]
  }
 ],
 "metadata": {
  "kernelspec": {
   "display_name": "Python 3",
   "language": "python",
   "name": "python3"
  },
  "language_info": {
   "codemirror_mode": {
    "name": "ipython",
    "version": 3
   },
   "file_extension": ".py",
   "mimetype": "text/x-python",
   "name": "python",
   "nbconvert_exporter": "python",
   "pygments_lexer": "ipython3",
   "version": "3.6.2"
  }
 },
 "nbformat": 4,
 "nbformat_minor": 2
}
